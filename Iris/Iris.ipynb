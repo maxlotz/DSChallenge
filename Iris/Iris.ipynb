{
 "cells": [
  {
   "cell_type": "markdown",
   "metadata": {},
   "source": [
    "For this task we wish to create a model capable of classifying plant data from the Iris dataset :)"
   ]
  },
  {
   "cell_type": "code",
   "execution_count": 55,
   "metadata": {},
   "outputs": [],
   "source": [
    "import os\n",
    "import requests\n",
    "\n",
    "import numpy as np\n",
    "import pandas as pd\n",
    "import matplotlib.pyplot as plt\n",
    "from sklearn.model_selection import train_test_split\n",
    "%matplotlib inline"
   ]
  },
  {
   "cell_type": "code",
   "execution_count": 35,
   "metadata": {},
   "outputs": [],
   "source": [
    "# This downloads the dataset, if it hasn't already been downloaded\n",
    "data_url = 'https://archive.ics.uci.edu/ml/machine-learning-databases/iris/iris.data'\n",
    "data_name = 'iris.data'\n",
    "data_path = os.path.join(os.getcwd(),dataset)\n",
    "\n",
    "if not os.path.isfile(data_path):\n",
    "    r = requests.get(data_url)\n",
    "    with open(data_name, 'wb') as f:\n",
    "        f.write(r.content)\n",
    "    "
   ]
  },
  {
   "cell_type": "markdown",
   "metadata": {},
   "source": [
    "We can see from a sample of our dataset that each of the data features are a floating point number rounded to the nearest decimal place representing the sepal and petal, length and width. An argument could be made that this data is discrete, since they are measures of distance. However, each of these decimal points are clearly not an entirely separate class, eg. 4.3cm is not equally different to 4.2cm as it is to 2.1cm, so they should clearly be treated as continuous.\n",
    "\n",
    "We wish to use this information to classify the type of flower from a discrete number of classes from the set [Iris-setosa, Iris-versicolor, Iris-virginica], hence it's a classication problem."
   ]
  },
  {
   "cell_type": "code",
   "execution_count": 62,
   "metadata": {},
   "outputs": [
    {
     "name": "stdout",
     "output_type": "stream",
     "text": [
      "    sepal_l  sepal_w  petal_l  petal_w            class\n",
      "78      6.0      2.9      4.5      1.5  Iris-versicolor\n"
     ]
    }
   ],
   "source": [
    "# Each data feature represents the sepal and petal, width and height\n",
    "data_features = ['sepal_l', 'sepal_w', 'petal_l', 'petal_w']\n",
    "df = pd.read_csv(data_path, names = data_features + ['class'])\n",
    "print(df.sample())"
   ]
  },
  {
   "cell_type": "markdown",
   "metadata": {},
   "source": [
    "Here we transform each of the class names to a one-hot encoded value. We then shuffle the data and split it into appropriately sized training and test sets."
   ]
  },
  {
   "cell_type": "code",
   "execution_count": null,
   "metadata": {},
   "outputs": [],
   "source": [
    "# Finds the unique classes, gives them each an index\n",
    "to_class = list(set(df['class']))\n",
    "# Gets an index from the class name\n",
    "to_idx = {clas : idx for idx, clas in enumerate(to_class)}\n",
    "\n",
    "# Transform class name to one-hot label\n",
    "df['class'] = df['class'].apply(lambda clas: to_idx[clas])\n",
    "\n",
    "# Shuffles data and splits into training and test sets\n",
    "X_train, X_test, Y_train, Y_test = train_test_split(df[data_features], df['class'], test_size=0.2)"
   ]
  }
 ],
 "metadata": {
  "kernelspec": {
   "display_name": "Python 3",
   "language": "python",
   "name": "python3"
  },
  "language_info": {
   "codemirror_mode": {
    "name": "ipython",
    "version": 3
   },
   "file_extension": ".py",
   "mimetype": "text/x-python",
   "name": "python",
   "nbconvert_exporter": "python",
   "pygments_lexer": "ipython3",
   "version": "3.6.5"
  }
 },
 "nbformat": 4,
 "nbformat_minor": 2
}
